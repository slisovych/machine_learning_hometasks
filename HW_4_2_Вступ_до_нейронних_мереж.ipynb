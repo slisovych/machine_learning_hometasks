{
  "nbformat": 4,
  "nbformat_minor": 0,
  "metadata": {
    "colab": {
      "provenance": [],
      "include_colab_link": true
    },
    "kernelspec": {
      "name": "python3",
      "display_name": "Python 3"
    },
    "language_info": {
      "name": "python"
    }
  },
  "cells": [
    {
      "cell_type": "markdown",
      "metadata": {
        "id": "view-in-github",
        "colab_type": "text"
      },
      "source": [
        "<a href=\"https://colab.research.google.com/github/slisovych/machine_learning_hometasks/blob/main/HW_4_2_%D0%92%D1%81%D1%82%D1%83%D0%BF_%D0%B4%D0%BE_%D0%BD%D0%B5%D0%B9%D1%80%D0%BE%D0%BD%D0%BD%D0%B8%D1%85_%D0%BC%D0%B5%D1%80%D0%B5%D0%B6.ipynb\" target=\"_parent\"><img src=\"https://colab.research.google.com/assets/colab-badge.svg\" alt=\"Open In Colab\"/></a>"
      ]
    },
    {
      "cell_type": "markdown",
      "source": [
        "**Секція 1. Логістична регресія з нуля.**\n",
        "\n",
        "Будемо крок за кроком будувати модель лог регресії з нуля для передбачення, чи буде врожай більше за 80 яблук (задача подібна до лекційної, але на класифікацію).\n",
        "\n",
        "Давайте нагадаємо основні формули для логістичної регресії.\n",
        "\n",
        "### Функція гіпотези - обчислення передбачення у логістичній регресії:\n",
        "\n",
        "$$\n",
        "\\hat{y} = \\sigma(x W^T + b) = \\frac{1}{1 + e^{-(x W^T + b)}}\n",
        "$$\n",
        "\n",
        "Де:\n",
        "- $ \\hat{y} $ — це ймовірність \"позитивного\" класу.\n",
        "- $ x $ — це вектор (або матриця для набору прикладів) вхідних даних.\n",
        "- $ W $ — це вектор (або матриця) вагових коефіцієнтів моделі.\n",
        "- $ b $ — це зміщення (bias).\n",
        "- $ \\sigma(z) $ — це сигмоїдна функція активації.\n",
        "\n",
        "### Як обчислюється сигмоїдна функція:\n",
        "\n",
        "Сигмоїдна функція $ \\sigma(z) $ має вигляд:\n",
        "\n",
        "$$\n",
        "\\sigma(z) = \\frac{1}{1 + e^{-z}}\n",
        "$$\n",
        "\n",
        "Ця функція перетворює будь-яке дійсне значення $ z $ в інтервал від 0 до 1, що дозволяє інтерпретувати вихід як ймовірність для логістичної регресії.\n",
        "\n",
        "### Формула функції втрат для логістичної регресії (бінарна крос-ентропія):\n",
        "\n",
        "Функція втрат крос-ентропії оцінює, наскільки добре модель передбачає класи, порівнюючи передбачені ймовірності $ \\hat{y} $ із справжніми мітками $ y $. Формула наступна:\n",
        "\n",
        "$$\n",
        "L(y, \\hat{y}) = - \\left[ y \\cdot \\log(\\hat{y}) + (1 - y) \\cdot \\log(1 - \\hat{y}) \\right]\n",
        "$$\n",
        "\n",
        "Де:\n",
        "- $ y $ — це справжнє значення (мітка класу, 0 або 1).\n",
        "- $ \\hat{y} $ — це передбачене значення (ймовірність).\n",
        "\n"
      ],
      "metadata": {
        "id": "lbLHTNfSclli"
      }
    },
    {
      "cell_type": "markdown",
      "source": [
        "1.\n",
        "Тут вже наведений код для ініціювання набору даних в форматі numpy. Перетворіть `inputs`, `targets` на `torch` тензори. Виведіть результат на екран."
      ],
      "metadata": {
        "id": "GtOYB-RHfc_r"
      }
    },
    {
      "cell_type": "code",
      "source": [
        "import torch\n",
        "import numpy as np"
      ],
      "metadata": {
        "id": "3BNXSR-VdYKQ"
      },
      "execution_count": 28,
      "outputs": []
    },
    {
      "cell_type": "code",
      "execution_count": 29,
      "metadata": {
        "id": "QLKZ77x4v_-v"
      },
      "outputs": [],
      "source": [
        "# Вхідні дані (temp, rainfall, humidity)\n",
        "inputs = np.array([[73, 67, 43],\n",
        "                   [91, 88, 64],\n",
        "                   [87, 134, 58],\n",
        "                   [102, 43, 37],\n",
        "                   [69, 96, 70]], dtype='float32')\n",
        "\n",
        "# Таргети (apples > 80)\n",
        "targets = np.array([[0],\n",
        "                    [1],\n",
        "                    [1],\n",
        "                    [0],\n",
        "                    [1]], dtype='float32')"
      ]
    },
    {
      "cell_type": "code",
      "source": [
        "inputs = torch.from_numpy(inputs)\n",
        "targets = torch.from_numpy(targets)"
      ],
      "metadata": {
        "id": "KjoeaDrk6fO7"
      },
      "execution_count": 30,
      "outputs": []
    },
    {
      "cell_type": "code",
      "source": [
        "inputs"
      ],
      "metadata": {
        "colab": {
          "base_uri": "https://localhost:8080/"
        },
        "id": "XetRNN8bRzHE",
        "outputId": "394ab5b8-625d-4a6b-c0a9-dc9cca7030c0"
      },
      "execution_count": 31,
      "outputs": [
        {
          "output_type": "execute_result",
          "data": {
            "text/plain": [
              "tensor([[ 73.,  67.,  43.],\n",
              "        [ 91.,  88.,  64.],\n",
              "        [ 87., 134.,  58.],\n",
              "        [102.,  43.,  37.],\n",
              "        [ 69.,  96.,  70.]])"
            ]
          },
          "metadata": {},
          "execution_count": 31
        }
      ]
    },
    {
      "cell_type": "code",
      "source": [
        "targets"
      ],
      "metadata": {
        "colab": {
          "base_uri": "https://localhost:8080/"
        },
        "id": "cVlQE4PgRzDy",
        "outputId": "da5f5579-bd3e-46ad-f965-3d5cba10feb1"
      },
      "execution_count": 32,
      "outputs": [
        {
          "output_type": "execute_result",
          "data": {
            "text/plain": [
              "tensor([[0.],\n",
              "        [1.],\n",
              "        [1.],\n",
              "        [0.],\n",
              "        [1.]])"
            ]
          },
          "metadata": {},
          "execution_count": 32
        }
      ]
    },
    {
      "cell_type": "markdown",
      "source": [
        "2. Ініціюйте ваги `w`, `b` для моделі логістичної регресії потрібної форми зважаючи на розмірності даних випадковими значеннями з нормального розподілу. Лишаю тут код для фіксації `random_seed`."
      ],
      "metadata": {
        "id": "iKzbJKfOgGV8"
      }
    },
    {
      "cell_type": "code",
      "source": [
        "torch.random.manual_seed(1)"
      ],
      "metadata": {
        "id": "aXhKw6Tdj1-d",
        "colab": {
          "base_uri": "https://localhost:8080/"
        },
        "outputId": "23d1a9f8-1800-4878-cc10-3f620f61c3bc"
      },
      "execution_count": 33,
      "outputs": [
        {
          "output_type": "execute_result",
          "data": {
            "text/plain": [
              "<torch._C.Generator at 0x7e9dbe89bd90>"
            ]
          },
          "metadata": {},
          "execution_count": 33
        }
      ]
    },
    {
      "cell_type": "code",
      "source": [
        "n_features = inputs.shape[1]   # 3\n",
        "n_outputs = targets.shape[1]   # 1\n",
        "\n",
        "w = torch.randn(n_features, n_outputs, requires_grad=True)\n",
        "b = torch.randn(n_outputs, requires_grad=True)\n",
        "\n",
        "print(\"w =\", w)\n",
        "print(\"b =\", b)"
      ],
      "metadata": {
        "id": "eApcB7eb6h9o",
        "colab": {
          "base_uri": "https://localhost:8080/"
        },
        "outputId": "244ec2bc-0347-49bf-e8fa-950de814e750"
      },
      "execution_count": 34,
      "outputs": [
        {
          "output_type": "stream",
          "name": "stdout",
          "text": [
            "w = tensor([[0.6614],\n",
            "        [0.2669],\n",
            "        [0.0617]], requires_grad=True)\n",
            "b = tensor([0.6213], requires_grad=True)\n"
          ]
        }
      ]
    },
    {
      "cell_type": "markdown",
      "source": [
        "3. Напишіть функцію `model`, яка буде обчислювати функцію гіпотези в логістичній регресії і дозволяти робити передбачення на основі введеного рядка даних і коефіцієнтів в змінних `w`, `b`.\n",
        "\n",
        "  **Важливий момент**, що функція `model` робить обчислення на `torch.tensors`, тож для математичних обчислень використовуємо фукнціонал `torch`, наприклад:\n",
        "  - обчсилення $e^x$: `torch.exp(x)`\n",
        "  - обчсилення $log(x)$: `torch.log(x)`\n",
        "  - обчислення середнього значення вектору `x`: `torch.mean(x)`\n",
        "\n",
        "  Використайте функцію `model` для обчислення передбачень з поточними значеннями `w`, `b`.Виведіть результат обчислень на екран.\n",
        "\n",
        "  Проаналізуйте передбачення. Чи не викликають вони у вас підозр? І якщо викликають, то чим це може бути зумовлено?"
      ],
      "metadata": {
        "id": "nYGxNGTaf5s6"
      }
    },
    {
      "cell_type": "code",
      "source": [
        "def model(x, w, b):\n",
        "    z = x @ w + b\n",
        "    return 1 / (1 + torch.exp(-z))  # сигмоїда"
      ],
      "metadata": {
        "id": "pSz2j4Fh6jBv"
      },
      "execution_count": 35,
      "outputs": []
    },
    {
      "cell_type": "code",
      "source": [
        "# Передбачення\n",
        "with torch.no_grad():\n",
        "    probs = model(inputs, w, b)  # ймовірності\n",
        "    classes = (probs >= 0.5).to(torch.int32)  # передбачені класи\n",
        "\n",
        "print(\"Ваги w:\\n\", w.detach().numpy())\n",
        "print(\"Зсув b:\\n\", b.detach().numpy())\n",
        "print(\"\\nЙмовірності (y_hat):\\n\", probs.numpy())\n",
        "print(\"\\nПередбачені класи:\\n\", classes.numpy())\n",
        "print(\"\\nСправжні мітки:\\n\", targets.numpy())"
      ],
      "metadata": {
        "colab": {
          "base_uri": "https://localhost:8080/"
        },
        "id": "Ym0VIEszWl4k",
        "outputId": "d2c16b8c-11fc-45a9-8705-b11a4742e324"
      },
      "execution_count": 36,
      "outputs": [
        {
          "output_type": "stream",
          "name": "stdout",
          "text": [
            "Ваги w:\n",
            " [[0.66135216]\n",
            " [0.2669241 ]\n",
            " [0.06167726]]\n",
            "Зсув b:\n",
            " [0.6213173]\n",
            "\n",
            "Ймовірності (y_hat):\n",
            " [[1.]\n",
            " [1.]\n",
            " [1.]\n",
            " [1.]\n",
            " [1.]]\n",
            "\n",
            "Передбачені класи:\n",
            " [[1]\n",
            " [1]\n",
            " [1]\n",
            " [1]\n",
            " [1]]\n",
            "\n",
            "Справжні мітки:\n",
            " [[0.]\n",
            " [1.]\n",
            " [1.]\n",
            " [0.]\n",
            " [1.]]\n"
          ]
        }
      ]
    },
    {
      "cell_type": "markdown",
      "source": [
        "Те, що всі п’ять прикладів класифіковані як 1, — явно підозріло.\n",
        "\n",
        "Нормалізувати/стандартизувати ознакинаприклад, StandardScaler\n",
        "\n",
        "Використати оптимізатор, кілька епох оновлювати w,b."
      ],
      "metadata": {
        "id": "rvsNs2wydk1D"
      }
    },
    {
      "cell_type": "markdown",
      "source": [
        "4. Напишіть функцію `binary_cross_entropy`, яка приймає на вхід передбачення моделі `predicted_probs` та справжні мітки в даних `true_labels` і обчислює значення втрат (loss)  за формулою бінарної крос-ентропії для кожного екземпляра та вертає середні втрати по всьому набору даних.\n",
        "  Використайте функцію `binary_cross_entropy` для обчислення втрат для поточних передбачень моделі."
      ],
      "metadata": {
        "id": "O2AGM0Mb2yHa"
      }
    },
    {
      "cell_type": "code",
      "source": [
        "def binary_cross_entropy(probs, targets, eps=1e-7):\n",
        "    p = torch.clamp(probs, eps, 1 - eps)\n",
        "    loss_each = -(targets * torch.log(p) + (1 - targets) * torch.log(1 - p))\n",
        "    return loss_each.mean(), loss_each\n",
        "\n",
        "# Передбачення і втрата\n",
        "# with torch.no_grad(): # Remove this line\n",
        "probs = model(inputs, w, b)\n",
        "mean_loss, loss_each = binary_cross_entropy(probs, targets, eps=1e-7)\n",
        "\n",
        "print(\"Ймовірності :\\n\", probs.detach().numpy())\n",
        "print(\"\\nLoss для кожного прикладу:\\n\", loss_each.detach().numpy())\n",
        "print(\"\\нСередня втрата (Binary Cross-Entropy):\", float(mean_loss.detach().numpy()))"
      ],
      "metadata": {
        "id": "1bWlovvx6kZS",
        "colab": {
          "base_uri": "https://localhost:8080/"
        },
        "outputId": "5e9b8b38-1db3-4035-c5ca-aa78eb5aabc5"
      },
      "execution_count": 37,
      "outputs": [
        {
          "output_type": "stream",
          "name": "stdout",
          "text": [
            "Ймовірності :\n",
            " [[1.]\n",
            " [1.]\n",
            " [1.]\n",
            " [1.]\n",
            " [1.]]\n",
            "\n",
            "Loss для кожного прикладу:\n",
            " [[1.5942385e+01]\n",
            " [1.1920930e-07]\n",
            " [1.1920930e-07]\n",
            " [1.5942385e+01]\n",
            " [1.1920930e-07]]\n",
            "\\нСередня втрата (Binary Cross-Entropy): 6.376954078674316\n"
          ]
        }
      ]
    },
    {
      "cell_type": "markdown",
      "source": [
        "5. Зробіть зворотнє поширення помилки і виведіть градієнти за параметрами `w`, `b`. Проаналізуйте їх значення. Як гадаєте, чому вони саме такі?"
      ],
      "metadata": {
        "id": "ZFKpQxdHi1__"
      }
    },
    {
      "cell_type": "code",
      "source": [
        "mean_loss.backward()\n",
        "\n",
        "print(mean_loss)\n",
        "print(w)\n",
        "print(b)\n",
        "print(\"Gradients for w:\\n\", w.grad)\n",
        "print(\"Gradients for b:\\n\", b.grad)"
      ],
      "metadata": {
        "id": "YAbXUNSJ6mCl",
        "colab": {
          "base_uri": "https://localhost:8080/"
        },
        "outputId": "b9f04c37-9553-45a3-e87b-50d9820c6737"
      },
      "execution_count": 38,
      "outputs": [
        {
          "output_type": "stream",
          "name": "stdout",
          "text": [
            "tensor(6.3770, grad_fn=<MeanBackward0>)\n",
            "tensor([[0.6614],\n",
            "        [0.2669],\n",
            "        [0.0617]], requires_grad=True)\n",
            "tensor([0.6213], requires_grad=True)\n",
            "Gradients for w:\n",
            " tensor([[0.],\n",
            "        [0.],\n",
            "        [0.]])\n",
            "Gradients for b:\n",
            " tensor([0.])\n"
          ]
        }
      ]
    },
    {
      "cell_type": "markdown",
      "source": [
        "Оскільки всі наші ймовірності =1, похідна сигмоїди =0, отже градієнт дуже малим"
      ],
      "metadata": {
        "id": "D7Q9KivJw4dA"
      }
    },
    {
      "cell_type": "markdown",
      "source": [
        "**Що сталось?**\n",
        "\n",
        "В цій задачі, коли ми ініціювали значення випадковими значеннями з нормального розподілу, насправді ці значення не були дуже гарними стартовими значеннями і привели до того, що градієнти стали дуже малими або навіть рівними нулю (це призводить до того, що градієнти \"зникають\"), і відповідно при оновленні ваг у нас не буде нічого змінюватись. Це називається `gradient vanishing`. Це відбувається через **насичення сигмоїдної функції активації.**\n",
        "\n",
        "У нашій задачі ми використовуємо сигмоїдну функцію активації, яка має такий вигляд:\n",
        "\n",
        "   $$\n",
        "   \\sigma(z) = \\frac{1}{1 + e^{-z}}\n",
        "   $$\n",
        "\n",
        "\n",
        "Коли значення $z$ дуже велике або дуже мале, сигмоїдна функція починає \"насичуватись\". Це означає, що для великих позитивних $z$ сигмоїда наближається до 1, а для великих негативних — до 0. В цих діапазонах градієнти починають стрімко зменшуватись і наближаються до нуля (бо градієнт - це похідна, похідна на проміжку функції, де вона паралельна осі ОХ, дорівнює 0), що робить оновлення ваг неможливим.\n",
        "\n",
        "![](https://editor.analyticsvidhya.com/uploads/27889vaegp.png)\n",
        "\n",
        "У логістичній регресії $ z = x \\cdot w + b $. Якщо ваги $w, b$ - великі, значення $z$ також буде великим, і сигмоїда перейде в насичену область, де градієнти дуже малі.\n",
        "\n",
        "Саме це сталося в нашій задачі, де великі випадкові значення ваг викликали насичення сигмоїдної функції. Це в свою чергу призводить до того, що під час зворотного поширення помилки (backpropagation) модель оновлює ваги дуже повільно або зовсім не оновлює. Це називається проблемою **зникнення градієнтів** (gradient vanishing problem).\n",
        "\n",
        "**Що ж робити?**\n",
        "Ініціювати ваги маленькими значеннями навколо нуля. Наприклад ми можемо просто в існуючій ініціалізації ваги розділити на 1000. Можна також використати інший спосіб ініціалізації вагів - інформація про це [тут](https://www.geeksforgeeks.org/initialize-weights-in-pytorch/).\n",
        "\n",
        "Як це робити - показую нижче. **Виконайте код та знову обчисліть передбачення, лосс і виведіть градієнти.**\n",
        "\n",
        "А я пишу пояснення, чому просто не зробити\n",
        "\n",
        "```\n",
        "w = torch.randn(1, 3, requires_grad=True)/1000\n",
        "b = torch.randn(1, requires_grad=True)/1000\n",
        "```\n",
        "\n",
        "Нам потрібно, аби тензори вагів були листовими (leaf tensors).\n",
        "\n",
        "1. **Що таке листовий тензор**\n",
        "Листовий тензор — це тензор, який був створений користувачем безпосередньо і з якого починається обчислювальний граф. Якщо такий тензор має `requires_grad=True`, PyTorch буде відслідковувати всі операції, виконані над ним, щоб правильно обчислювати градієнти під час навчання.\n",
        "\n",
        "2. **Чому ми використовуємо `w.data` замість звичайних операцій**\n",
        "Якщо ми просто виконали б операції, такі як `(w - 0.5) / 100`, ми б отримали **новий тензор**, який вже не був би листовим тензором, оскільки ці операції створюють **новий** тензор, а не модифікують існуючий.\n",
        "\n",
        "  Проте, щоб залишити наші тензори ваги `w` та зміщення `b` листовими і продовжити можливість відстеження градієнтів під час тренування, ми використовуємо атрибут `.data`. Цей атрибут дозволяє **виконувати операції in-place (прямо на існуючому тензорі)** без зміни самого об'єкта тензора. Отже, тензор залишається листовим, і PyTorch може коректно обчислювати його градієнти.\n",
        "\n",
        "3. **Чому важливо залишити тензор листовим**\n",
        "Якщо тензор більше не є листовим (наприклад, через проведення операцій, що створюють нові тензори), ви не зможете отримати градієнти за допомогою `w.grad` чи `b.grad` після виклику `loss.backward()`. Це може призвести до втрати можливості оновлення параметрів під час тренування моделі. В нашому випадку ми хочемо, щоб тензори `w` та `b` накопичували градієнти, тому вони повинні залишатись листовими.\n",
        "\n",
        "**Висновок:**\n",
        "Ми використовуємо `.data`, щоб виконати операції зміни значень на ваги і зміщення **in-place**, залишаючи їх листовими тензорами, які можуть накопичувати градієнти під час навчання. Це дозволяє коректно працювати механізму зворотного поширення помилки (backpropagation) і оновлювати ваги моделі."
      ],
      "metadata": {
        "id": "nDN1t1RujQsK"
      }
    },
    {
      "cell_type": "markdown",
      "source": [
        "5. Виконайте код та знову обчисліть передбачення, лосс і знайдіть градієнти та виведіть всі ці тензори на екран."
      ],
      "metadata": {
        "id": "rOPSQyttpVjO"
      }
    },
    {
      "cell_type": "code",
      "source": [
        "torch.random.manual_seed(1)\n",
        "w = torch.randn(1, 3, requires_grad=True)  # Листовий тензор\n",
        "b = torch.randn(1, requires_grad=True)     # Листовий тензор\n",
        "\n",
        "# in-place операції\n",
        "w.data = w.data / 1000\n",
        "b.data = b.data / 1000"
      ],
      "metadata": {
        "id": "-EBOJ3tsnRaD"
      },
      "execution_count": 39,
      "outputs": []
    },
    {
      "cell_type": "code",
      "source": [
        "def model(x, w, b):\n",
        "    # x: (N, 3), w: (1,3) -> x @ w.T дає (N,1)\n",
        "    z = x @ w.t() + b\n",
        "    return 1 / (1 + torch.exp(-z))  # sigmoid\n",
        "\n",
        "def binary_cross_entropy(probs, targets, eps=1e-7):\n",
        "    p = torch.clamp(probs, eps, 1 - eps)\n",
        "    loss_each = -(targets * torch.log(p) + (1 - targets) * torch.log(1 - p))\n",
        "    return loss_each.mean(), loss_each\n",
        "\n",
        "# Передбачення і втрата\n",
        "probs = model(inputs, w, b)\n",
        "mean_loss, loss_each = binary_cross_entropy(probs, targets, eps=1e-7)\n",
        "\n",
        "\n",
        "w.grad = None\n",
        "b.grad = None\n",
        "mean_loss.backward()\n",
        "\n",
        "print(mean_loss)\n",
        "print(w)\n",
        "print(b)\n",
        "print(\"Gradients for w:\\n\", w.grad)\n",
        "print(\"Gradients for b:\\n\", b.grad)"
      ],
      "metadata": {
        "id": "-JwXiSpX6orh",
        "colab": {
          "base_uri": "https://localhost:8080/"
        },
        "outputId": "42527b10-aafc-4c31-ab74-b768e37ec9ff"
      },
      "execution_count": 40,
      "outputs": [
        {
          "output_type": "stream",
          "name": "stdout",
          "text": [
            "tensor(0.6829, grad_fn=<MeanBackward0>)\n",
            "tensor([[6.6135e-04, 2.6692e-04, 6.1677e-05]], requires_grad=True)\n",
            "tensor([0.0006], requires_grad=True)\n",
            "Gradients for w:\n",
            " tensor([[ -5.4417, -18.9853, -10.0682]])\n",
            "Gradients for b:\n",
            " tensor([-0.0794])\n"
          ]
        }
      ]
    },
    {
      "cell_type": "markdown",
      "source": [
        "6. Напишіть алгоритм градієнтного спуску, який буде навчати модель з використанням написаних раніше функцій і виконуючи оновлення ваг. Алгоритм має включати наступні кроки:\n",
        "\n",
        "  1. Генерація прогнозів\n",
        "  2. Обчислення втрат\n",
        "  3. Обчислення градієнтів (gradients) loss-фукнції відносно ваг і зсувів\n",
        "  4. Налаштування ваг шляхом віднімання невеликої величини, пропорційної градієнту (`learning_rate` домножений на градієнт)\n",
        "  5. Скидання градієнтів на нуль\n",
        "\n",
        "Виконайте градієнтний спуск протягом 1000 епох, обчисліть фінальні передбачення і проаналізуйте, чи вони точні?"
      ],
      "metadata": {
        "id": "RCdi44IT334o"
      }
    },
    {
      "cell_type": "code",
      "source": [
        "torch.random.manual_seed(1)\n",
        "w = torch.randn(1, 3, requires_grad=True)\n",
        "b = torch.randn(1,   requires_grad=True)\n",
        "w.data = w.data / 1000.0\n",
        "b.data = b.data / 1000.0\n",
        "\n",
        "# Модель лог. регресії\n",
        "def model(x, w, b):\n",
        "    z = x @ w.t() + b\n",
        "    return 1 / (1 + torch.exp(-z))\n",
        "\n",
        "def binary_cross_entropy(probs, targets, eps=1e-7):\n",
        "    p = torch.clamp(probs, eps, 1 - eps)\n",
        "    loss_each = -(targets * torch.log(p) + (1 - targets) * torch.log(1 - p))\n",
        "    return loss_each.mean(), loss_each\n",
        "\n",
        "# Параметри навчання\n",
        "learning_rate = 1e-5\n",
        "epochs = 1000\n",
        "\n",
        "# ----- Тренування -----\n",
        "for i in range(epochs):\n",
        "    probs = model(inputs, w, b)\n",
        "    mean_loss, _ = binary_cross_entropy(probs, targets, eps=1e-7)\n",
        "    mean_loss.backward()\n",
        "    with torch.no_grad():\n",
        "        w -= learning_rate * w.grad\n",
        "        b -= learning_rate * b.grad\n",
        "        w.grad.zero_()\n",
        "        b.grad.zero_()\n",
        "\n",
        "    if (i + 1) % 200 == 0:\n",
        "        print(f\"epoch {i+1:4d} | loss = {mean_loss.item():.6f}\")\n",
        "\n",
        "# Фінальні передбачення\n",
        "with torch.no_grad():\n",
        "    probs_final = model(inputs, w, b)\n",
        "    pred_cls = (probs_final >= 0.5).to(torch.int32)\n",
        "\n",
        "print(\"\\n Фінальні параметри\")\n",
        "print(\"w:\\n\", w)\n",
        "print(\"b:\\n\", b)\n",
        "\n",
        "print(\"\\n Фінальні ймовірності\")\n",
        "print(probs_final)\n",
        "\n",
        "print(\"\\n Передбачені класи\")\n",
        "print(pred_cls)\n",
        "\n",
        "print(\"\\n Справжні мітки\")\n",
        "print(targets.to(torch.int32))"
      ],
      "metadata": {
        "id": "mObHPyE06qsO",
        "colab": {
          "base_uri": "https://localhost:8080/"
        },
        "outputId": "9ddef28e-0658-4040-d4e2-36518cdbd48e"
      },
      "execution_count": 41,
      "outputs": [
        {
          "output_type": "stream",
          "name": "stdout",
          "text": [
            "epoch  200 | loss = 0.507541\n",
            "epoch  400 | loss = 0.432960\n",
            "epoch  600 | loss = 0.387283\n",
            "epoch  800 | loss = 0.357128\n",
            "epoch 1000 | loss = 0.335862\n",
            "\n",
            " Фінальні параметри\n",
            "w:\n",
            " tensor([[-0.0361,  0.0342,  0.0152]], requires_grad=True)\n",
            "b:\n",
            " tensor([0.0002], requires_grad=True)\n",
            "\n",
            " Фінальні ймовірності\n",
            "tensor([[0.5777],\n",
            "        [0.6685],\n",
            "        [0.9113],\n",
            "        [0.1618],\n",
            "        [0.8653]])\n",
            "\n",
            " Передбачені класи\n",
            "tensor([[1],\n",
            "        [1],\n",
            "        [1],\n",
            "        [0],\n",
            "        [1]], dtype=torch.int32)\n",
            "\n",
            " Справжні мітки\n",
            "tensor([[0],\n",
            "        [1],\n",
            "        [1],\n",
            "        [0],\n",
            "        [1]], dtype=torch.int32)\n"
          ]
        }
      ]
    },
    {
      "cell_type": "markdown",
      "source": [
        "**Секція 2. Створення лог регресії з використанням функціоналу `torch.nn`.**\n",
        "\n",
        "Давайте повторно реалізуємо ту ж модель, використовуючи деякі вбудовані функції та класи з PyTorch.\n",
        "\n",
        "Даних у нас буде побільше - тож, визначаємо нові масиви."
      ],
      "metadata": {
        "id": "fuRhlyF9qAia"
      }
    },
    {
      "cell_type": "code",
      "source": [
        "# Вхідні дані (temp, rainfall, humidity)\n",
        "inputs = np.array([[73, 67, 43],\n",
        "                   [91, 88, 64],\n",
        "                   [87, 134, 58],\n",
        "                   [102, 43, 37],\n",
        "                   [69, 96, 70],\n",
        "                   [73, 67, 43],\n",
        "                   [91, 88, 64],\n",
        "                   [87, 134, 58],\n",
        "                   [102, 43, 37],\n",
        "                   [69, 96, 70],\n",
        "                   [73, 67, 43],\n",
        "                   [91, 88, 64],\n",
        "                   [87, 134, 58],\n",
        "                   [102, 43, 37],\n",
        "                   [69, 96, 70]], dtype='float32')\n",
        "\n",
        "# Таргети (apples > 80)\n",
        "targets = np.array([[0],\n",
        "                    [1],\n",
        "                    [1],\n",
        "                    [0],\n",
        "                    [1],\n",
        "                    [0],\n",
        "                    [1],\n",
        "                    [1],\n",
        "                    [0],\n",
        "                    [1],\n",
        "                    [0],\n",
        "                    [1],\n",
        "                    [1],\n",
        "                    [0],\n",
        "                    [1]], dtype='float32')"
      ],
      "metadata": {
        "id": "IX8Bhm74rV4M"
      },
      "execution_count": 42,
      "outputs": []
    },
    {
      "cell_type": "markdown",
      "source": [
        "7. Завантажте вхідні дані та мітки в PyTorch тензори та з них створіть датасет, який поєднує вхідні дані з мітками, використовуючи клас `TensorDataset`. Виведіть перші 3 елементи в датасеті.\n",
        "\n"
      ],
      "metadata": {
        "id": "7X2dV30KtAPu"
      }
    },
    {
      "cell_type": "code",
      "source": [
        "import torch.nn as nn\n",
        "from torch.utils.data import TensorDataset, DataLoader\n",
        "\n",
        "inputs = torch.from_numpy(inputs)\n",
        "targets = torch.from_numpy(targets)"
      ],
      "metadata": {
        "id": "chrvMfBs6vjo"
      },
      "execution_count": 43,
      "outputs": []
    },
    {
      "cell_type": "code",
      "source": [
        "train_ds = TensorDataset(inputs, targets)\n",
        "train_ds[0:3]"
      ],
      "metadata": {
        "colab": {
          "base_uri": "https://localhost:8080/"
        },
        "id": "_ADsHXycAfaj",
        "outputId": "baa4f337-1585-4d9a-ea30-dc4325aa5b02"
      },
      "execution_count": 44,
      "outputs": [
        {
          "output_type": "execute_result",
          "data": {
            "text/plain": [
              "(tensor([[ 73.,  67.,  43.],\n",
              "         [ 91.,  88.,  64.],\n",
              "         [ 87., 134.,  58.]]),\n",
              " tensor([[0.],\n",
              "         [1.],\n",
              "         [1.]]))"
            ]
          },
          "metadata": {},
          "execution_count": 44
        }
      ]
    },
    {
      "cell_type": "markdown",
      "source": [
        "8. Визначте data loader з класом **DataLoader** для підготовленого датасету `train_ds`, встановіть розмір батчу на 5 та увімкніть перемішування даних для ефективного навчання моделі. Виведіть перший елемент в дата лоадері."
      ],
      "metadata": {
        "id": "4nMFaa8suOd3"
      }
    },
    {
      "cell_type": "code",
      "source": [
        "batch_size = 5\n",
        "train_dl = DataLoader(train_ds, batch_size, shuffle=True)\n",
        "next(iter(train_dl))"
      ],
      "metadata": {
        "id": "ZCsRo5Mx6wEI",
        "colab": {
          "base_uri": "https://localhost:8080/"
        },
        "outputId": "0e80545a-8c4b-449a-c923-885ef77258bb"
      },
      "execution_count": 45,
      "outputs": [
        {
          "output_type": "execute_result",
          "data": {
            "text/plain": [
              "[tensor([[ 73.,  67.,  43.],\n",
              "         [ 91.,  88.,  64.],\n",
              "         [102.,  43.,  37.],\n",
              "         [ 69.,  96.,  70.],\n",
              "         [102.,  43.,  37.]]),\n",
              " tensor([[0.],\n",
              "         [1.],\n",
              "         [0.],\n",
              "         [1.],\n",
              "         [0.]])]"
            ]
          },
          "metadata": {},
          "execution_count": 45
        }
      ]
    },
    {
      "cell_type": "markdown",
      "source": [
        "9. Створіть клас `LogReg` для логістичної регресії, наслідуючи модуль `torch.nn.Module` за прикладом в лекції (в частині про FeedForward мережі).\n",
        "\n",
        "  У нас модель складається з лінійної комбінації вхідних значень і застосування фукнції сигмоїда. Тож, нейромережа буде складатись з лінійного шару `nn.Linear` і використання активації `nn.Sigmid`. У створеному класі мають бути реалізовані методи `__init__` з ініціалізацією шарів і метод `forward` для виконання прямого проходу моделі через лінійний шар і функцію активації.\n",
        "\n",
        "  Створіть екземпляр класу `LogReg` в змінній `model`."
      ],
      "metadata": {
        "id": "ymcQOo_hum6I"
      }
    },
    {
      "cell_type": "code",
      "source": [
        "class LogReg(nn.Module):\n",
        "    def __init__(self, in_features=3, out_features=1):\n",
        "        super().__init__()\n",
        "        self.linear = nn.Linear(in_features, out_features)\n",
        "        self.act = nn.Sigmoid()\n",
        "\n",
        "    def forward(self, x):\n",
        "        x = self.linear(x)\n",
        "        x = self.act(x)\n",
        "        return x\n",
        "\n",
        "# Створюємо екземпляр моделі\n",
        "model = LogReg()"
      ],
      "metadata": {
        "id": "EyAwhTBW6xxz"
      },
      "execution_count": 46,
      "outputs": []
    },
    {
      "cell_type": "markdown",
      "source": [
        "10. Задайте оптимізатор `Stockastic Gradient Descent` в змінній `opt` для навчання моделі логістичної регресії. А також визначіть в змінній `loss` функцію втрат `binary_cross_entropy` з модуля `torch.nn.functional` для обчислення втрат моделі. Обчисліть втрати для поточних передбачень і міток, а потім виведіть їх. Зробіть висновок, чи моделі вдалось навчитись?"
      ],
      "metadata": {
        "id": "RflV7xeVyoJy"
      }
    },
    {
      "cell_type": "code",
      "source": [
        "import torch.nn.functional as F\n",
        "\n",
        "opt = torch.optim.SGD(model.parameters(), lr=1e-5)\n",
        "probs = model(inputs)\n",
        "loss = F.binary_cross_entropy(probs, targets)\n",
        "print(\"Поточні втрати (BCE):\", loss.item())"
      ],
      "metadata": {
        "id": "3QCATPU_6yfa",
        "colab": {
          "base_uri": "https://localhost:8080/"
        },
        "outputId": "8d56dc10-627f-44bf-d482-8d26b611c50b"
      },
      "execution_count": 47,
      "outputs": [
        {
          "output_type": "stream",
          "name": "stdout",
          "text": [
            "Поточні втрати (BCE): 7.631152629852295\n"
          ]
        }
      ]
    },
    {
      "cell_type": "markdown",
      "source": [
        "Модель не навчена.\n",
        "\n",
        "Значення втрат 7.63 — дуже велике."
      ],
      "metadata": {
        "id": "fBsLQrJdfWxA"
      }
    },
    {
      "cell_type": "markdown",
      "source": [
        "11. Візьміть з лекції функцію для тренування моделі з відстеженням значень втрат і навчіть щойно визначену модель на 1000 епохах. Виведіть після цього графік зміни loss, фінальні передбачення і значення таргетів."
      ],
      "metadata": {
        "id": "ch-WrYnKzMzq"
      }
    },
    {
      "cell_type": "code",
      "source": [
        "# Модифікована функцію fit для відстеження втрат\n",
        "def fit_return_loss(num_epochs, model, loss_fn, opt, train_dl):\n",
        "    losses = []\n",
        "    for epoch in range(num_epochs):\n",
        "        # Ініціалізуємо акумулятор для втрат\n",
        "        total_loss = 0\n",
        "\n",
        "        for xb, yb in train_dl:\n",
        "            # Генеруємо передбачення\n",
        "            pred = model(xb)\n",
        "\n",
        "            # Обчислюємо втрати\n",
        "            loss = loss_fn(pred, yb)\n",
        "\n",
        "            # Виконуємо градієнтний спуск\n",
        "            loss.backward()\n",
        "            opt.step()\n",
        "            opt.zero_grad()\n",
        "\n",
        "            # Накопичуємо втрати\n",
        "            total_loss += loss.item()\n",
        "\n",
        "        # Обчислюємо середні втрати для епохи\n",
        "        avg_loss = total_loss / len(train_dl)\n",
        "        losses.append(avg_loss)\n",
        "\n",
        "        # Виводимо підсумок епохи\n",
        "        if (epoch + 1) % 10 == 0:\n",
        "          print(f'Epoch [{epoch+1}/{num_epochs}], Loss: {avg_loss:.4f}')\n",
        "    return losses"
      ],
      "metadata": {
        "id": "cEHQH9qE626k"
      },
      "execution_count": 48,
      "outputs": []
    },
    {
      "cell_type": "code",
      "source": [
        "# Train the model for 1000 epochs\n",
        "loss_values = fit_return_loss(1000, model, F.binary_cross_entropy, opt, train_dl)\n"
      ],
      "metadata": {
        "colab": {
          "base_uri": "https://localhost:8080/"
        },
        "id": "JpuaE9Gbg-Ph",
        "outputId": "56374beb-c66d-4f10-c4e1-8980e3a48e52"
      },
      "execution_count": 50,
      "outputs": [
        {
          "output_type": "stream",
          "name": "stdout",
          "text": [
            "Epoch [10/1000], Loss: 6.6427\n",
            "Epoch [20/1000], Loss: 6.0512\n",
            "Epoch [30/1000], Loss: 5.7184\n",
            "Epoch [40/1000], Loss: 5.4761\n",
            "Epoch [50/1000], Loss: 5.2511\n",
            "Epoch [60/1000], Loss: 5.0746\n",
            "Epoch [70/1000], Loss: 4.8814\n",
            "Epoch [80/1000], Loss: 4.7763\n",
            "Epoch [90/1000], Loss: 4.6693\n",
            "Epoch [100/1000], Loss: 4.5735\n",
            "Epoch [110/1000], Loss: 4.4807\n",
            "Epoch [120/1000], Loss: 4.3868\n",
            "Epoch [130/1000], Loss: 4.2964\n",
            "Epoch [140/1000], Loss: 4.2001\n",
            "Epoch [150/1000], Loss: 4.1139\n",
            "Epoch [160/1000], Loss: 4.0429\n",
            "Epoch [170/1000], Loss: 3.9441\n",
            "Epoch [180/1000], Loss: 3.8582\n",
            "Epoch [190/1000], Loss: 3.7747\n",
            "Epoch [200/1000], Loss: 3.6911\n",
            "Epoch [210/1000], Loss: 3.6114\n",
            "Epoch [220/1000], Loss: 3.5300\n",
            "Epoch [230/1000], Loss: 3.4412\n",
            "Epoch [240/1000], Loss: 3.3614\n",
            "Epoch [250/1000], Loss: 3.2803\n",
            "Epoch [260/1000], Loss: 3.1957\n",
            "Epoch [270/1000], Loss: 3.1127\n",
            "Epoch [280/1000], Loss: 3.0319\n",
            "Epoch [290/1000], Loss: 2.9527\n",
            "Epoch [300/1000], Loss: 2.8686\n",
            "Epoch [310/1000], Loss: 2.8070\n",
            "Epoch [320/1000], Loss: 2.7062\n",
            "Epoch [330/1000], Loss: 2.6257\n",
            "Epoch [340/1000], Loss: 2.5507\n",
            "Epoch [350/1000], Loss: 2.4662\n",
            "Epoch [360/1000], Loss: 2.3905\n",
            "Epoch [370/1000], Loss: 2.3114\n",
            "Epoch [380/1000], Loss: 2.2354\n",
            "Epoch [390/1000], Loss: 2.1622\n",
            "Epoch [400/1000], Loss: 2.0929\n",
            "Epoch [410/1000], Loss: 2.0072\n",
            "Epoch [420/1000], Loss: 1.9381\n",
            "Epoch [430/1000], Loss: 1.8629\n",
            "Epoch [440/1000], Loss: 1.7919\n",
            "Epoch [450/1000], Loss: 1.7188\n",
            "Epoch [460/1000], Loss: 1.6491\n",
            "Epoch [470/1000], Loss: 1.5779\n",
            "Epoch [480/1000], Loss: 1.5138\n",
            "Epoch [490/1000], Loss: 1.4472\n",
            "Epoch [500/1000], Loss: 1.3858\n",
            "Epoch [510/1000], Loss: 1.3276\n",
            "Epoch [520/1000], Loss: 1.2576\n",
            "Epoch [530/1000], Loss: 1.2028\n",
            "Epoch [540/1000], Loss: 1.1377\n",
            "Epoch [550/1000], Loss: 1.0862\n",
            "Epoch [560/1000], Loss: 1.0413\n",
            "Epoch [570/1000], Loss: 0.9854\n",
            "Epoch [580/1000], Loss: 0.9328\n",
            "Epoch [590/1000], Loss: 0.8965\n",
            "Epoch [600/1000], Loss: 0.8441\n",
            "Epoch [610/1000], Loss: 0.8032\n",
            "Epoch [620/1000], Loss: 0.7647\n",
            "Epoch [630/1000], Loss: 0.7350\n",
            "Epoch [640/1000], Loss: 0.6978\n",
            "Epoch [650/1000], Loss: 0.6680\n",
            "Epoch [660/1000], Loss: 0.6385\n",
            "Epoch [670/1000], Loss: 0.6149\n",
            "Epoch [680/1000], Loss: 0.5900\n",
            "Epoch [690/1000], Loss: 0.5702\n",
            "Epoch [700/1000], Loss: 0.5556\n",
            "Epoch [710/1000], Loss: 0.5314\n",
            "Epoch [720/1000], Loss: 0.5163\n",
            "Epoch [730/1000], Loss: 0.5011\n",
            "Epoch [740/1000], Loss: 0.4869\n",
            "Epoch [750/1000], Loss: 0.4742\n",
            "Epoch [760/1000], Loss: 0.4623\n",
            "Epoch [770/1000], Loss: 0.4543\n",
            "Epoch [780/1000], Loss: 0.4420\n",
            "Epoch [790/1000], Loss: 0.4315\n",
            "Epoch [800/1000], Loss: 0.4234\n",
            "Epoch [810/1000], Loss: 0.4163\n",
            "Epoch [820/1000], Loss: 0.4075\n",
            "Epoch [830/1000], Loss: 0.4005\n",
            "Epoch [840/1000], Loss: 0.3948\n",
            "Epoch [850/1000], Loss: 0.3882\n",
            "Epoch [860/1000], Loss: 0.3826\n",
            "Epoch [870/1000], Loss: 0.3770\n",
            "Epoch [880/1000], Loss: 0.3726\n",
            "Epoch [890/1000], Loss: 0.3677\n",
            "Epoch [900/1000], Loss: 0.3629\n",
            "Epoch [910/1000], Loss: 0.3600\n",
            "Epoch [920/1000], Loss: 0.3544\n",
            "Epoch [930/1000], Loss: 0.3522\n",
            "Epoch [940/1000], Loss: 0.3472\n",
            "Epoch [950/1000], Loss: 0.3448\n",
            "Epoch [960/1000], Loss: 0.3405\n",
            "Epoch [970/1000], Loss: 0.3381\n",
            "Epoch [980/1000], Loss: 0.3358\n",
            "Epoch [990/1000], Loss: 0.3320\n",
            "Epoch [1000/1000], Loss: 0.3289\n"
          ]
        }
      ]
    },
    {
      "cell_type": "code",
      "source": [
        "import matplotlib.pyplot as plt\n",
        "\n",
        "plt.plot(loss_values)\n",
        "plt.xlabel(\"Epoch\")\n",
        "plt.ylabel(\"Loss\")\n",
        "plt.title(\"Training Loss over Epochs\")\n",
        "plt.show()"
      ],
      "metadata": {
        "colab": {
          "base_uri": "https://localhost:8080/",
          "height": 472
        },
        "id": "g3pS_pTDiiDg",
        "outputId": "178d9a08-13f9-468e-e781-76f0731de058"
      },
      "execution_count": 51,
      "outputs": [
        {
          "output_type": "display_data",
          "data": {
            "text/plain": [
              "<Figure size 640x480 with 1 Axes>"
            ],
            "image/png": "[encoded data removed]"
          },
          "metadata": {}
        }
      ]
    },
    {
      "cell_type": "code",
      "source": [
        "# Generate predictions\n",
        "preds = model(inputs)\n",
        "preds\n"
      ],
      "metadata": {
        "colab": {
          "base_uri": "https://localhost:8080/"
        },
        "id": "PsQpcrXKi9H3",
        "outputId": "ee40cb4a-4cf7-4697-ea51-4faa0c159ead"
      },
      "execution_count": 55,
      "outputs": [
        {
          "output_type": "execute_result",
          "data": {
            "text/plain": [
              "tensor([[0.5728],\n",
              "        [0.6790],\n",
              "        [0.9026],\n",
              "        [0.1569],\n",
              "        [0.8760],\n",
              "        [0.5728],\n",
              "        [0.6790],\n",
              "        [0.9026],\n",
              "        [0.1569],\n",
              "        [0.8760],\n",
              "        [0.5728],\n",
              "        [0.6790],\n",
              "        [0.9026],\n",
              "        [0.1569],\n",
              "        [0.8760]], grad_fn=<SigmoidBackward0>)"
            ]
          },
          "metadata": {},
          "execution_count": 55
        }
      ]
    },
    {
      "cell_type": "code",
      "source": [
        "targets"
      ],
      "metadata": {
        "colab": {
          "base_uri": "https://localhost:8080/"
        },
        "id": "HWpBL67Ri9u8",
        "outputId": "93118150-9903-43f3-bef1-fb5032106879"
      },
      "execution_count": 53,
      "outputs": [
        {
          "output_type": "execute_result",
          "data": {
            "text/plain": [
              "tensor([[0.],\n",
              "        [1.],\n",
              "        [1.],\n",
              "        [0.],\n",
              "        [1.],\n",
              "        [0.],\n",
              "        [1.],\n",
              "        [1.],\n",
              "        [0.],\n",
              "        [1.],\n",
              "        [0.],\n",
              "        [1.],\n",
              "        [1.],\n",
              "        [0.],\n",
              "        [1.]])"
            ]
          },
          "metadata": {},
          "execution_count": 53
        }
      ]
    },
    {
      "cell_type": "code",
      "source": [],
      "metadata": {
        "id": "HI4SRDISjsx3"
      },
      "execution_count": null,
      "outputs": []
    }
  ]
}