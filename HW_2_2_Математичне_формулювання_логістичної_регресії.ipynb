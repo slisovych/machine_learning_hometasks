{
  "nbformat": 4,
  "nbformat_minor": 0,
  "metadata": {
    "colab": {
      "provenance": [],
      "include_colab_link": true
    },
    "kernelspec": {
      "name": "python3",
      "display_name": "Python 3"
    },
    "language_info": {
      "name": "python"
    }
  },
  "cells": [
    {
      "cell_type": "markdown",
      "metadata": {
        "id": "view-in-github",
        "colab_type": "text"
      },
      "source": [
        "<a href=\"https://colab.research.google.com/github/slisovych/machine_learning_hometasks/blob/main/HW_2_2_%D0%9C%D0%B0%D1%82%D0%B5%D0%BC%D0%B0%D1%82%D0%B8%D1%87%D0%BD%D0%B5_%D1%84%D0%BE%D1%80%D0%BC%D1%83%D0%BB%D1%8E%D0%B2%D0%B0%D0%BD%D0%BD%D1%8F_%D0%BB%D0%BE%D0%B3%D1%96%D1%81%D1%82%D0%B8%D1%87%D0%BD%D0%BE%D1%97_%D1%80%D0%B5%D0%B3%D1%80%D0%B5%D1%81%D1%96%D1%97.ipynb\" target=\"_parent\"><img src=\"https://colab.research.google.com/assets/colab-badge.svg\" alt=\"Open In Colab\"/></a>"
      ]
    },
    {
      "cell_type": "markdown",
      "source": [
        "В цьому домашньому завданні ми реалізуємо логістичну регресію на `numpy`.\n",
        "Ці завдання допоможуть вам ґрунтовно засвоїти основні концепції логістичної регресії та реалізувати їх на практиці 🔥\n",
        "\n",
        "#### Завдання 1: Реалізація функції сигмоїди\n",
        "1. З використанням `numpy` напишіть функцію `sigmoid(z)` для обчислення значення сигмоїди згідно з формулою:\n",
        "   $$\n",
        "   \\sigma(z) = \\frac{1}{1 + e^{-z}}\n",
        "   $$\n",
        "2. Використовуючи цю функцію, обчисліть значення сигмоїди для наступних даних: $ z = [-2, -1, 0, 1, 2] $. Виведіть результат обчислень.\n"
      ],
      "metadata": {
        "id": "KxRmdyv5CIZe"
      }
    },
    {
      "cell_type": "code",
      "source": [
        "import numpy as np\n",
        "\n",
        "# Реалізація функції сигмоїди\n",
        "def sigmoid(z):\n",
        "    return 1 / (1 + np.exp(-z))\n",
        "\n",
        "# Дані для обчислення\n",
        "z = np.array([-2, -1, 0, 1, 2])\n",
        "\n",
        "# Обчислення значення сигмоїди\n",
        "sigmoid_values = sigmoid(z)\n",
        "\n",
        "# Виведення результатів\n",
        "sigmoid_values\n"
      ],
      "metadata": {
        "id": "v9ilfXulL2wP",
        "colab": {
          "base_uri": "https://localhost:8080/"
        },
        "outputId": "ad2f1da5-afc7-4f72-8842-82b267baf0f9"
      },
      "execution_count": 1,
      "outputs": [
        {
          "output_type": "execute_result",
          "data": {
            "text/plain": [
              "array([0.11920292, 0.26894142, 0.5       , 0.73105858, 0.88079708])"
            ]
          },
          "metadata": {},
          "execution_count": 1
        }
      ]
    },
    {
      "cell_type": "markdown",
      "source": [
        "\n",
        "\n",
        "#### Завдання 2: Реалізація функції гіпотези для логістичної регресії\n",
        "1. Напишіть функцію `hypothesis(theta, X)`, яка обчислює гіпотезу для логістичної регресії, використовуючи функцію сигмоїди. Формула гіпотези:\n",
        "   $$\n",
        "   h_\\theta(x) = \\sigma(\\theta^T x) = \\frac{1}{1 + e^{-\\theta^T x}}\n",
        "   $$\n",
        "2. Використайте функцію `hypothesis` для обчислення значень гіпотези для наступних даних:\n",
        "   \n",
        "   $\\theta = [0.5, -0.5]$\n",
        "   \n",
        "   $X = \\begin{bmatrix} 1 & 2 \\\\ 1 & -1 \\\\ 1 & 0 \\\\ 1 & 1 \\end{bmatrix}$\n",
        "\n",
        "  Виведіть результат обчислень.\n"
      ],
      "metadata": {
        "id": "LVd_jCGNCR1F"
      }
    },
    {
      "cell_type": "code",
      "source": [
        "# Реалізація функції гіпотези для логістичної регресії\n",
        "def hypothesis(theta, X):\n",
        "    \"\"\"\n",
        "    Обчислює значення гіпотези логістичної регресії для заданих параметрів theta та вхідних даних X.\n",
        "    \"\"\"\n",
        "    return 1 / (1 + np.exp(-np.dot(X, theta)))\n",
        "\n",
        "# Задані параметри theta і матриця X\n",
        "theta = np.array([0.5, -0.5])\n",
        "X = np.array([\n",
        "    [1, 2],\n",
        "    [1, -1],\n",
        "    [1, 0],\n",
        "    [1, 1]\n",
        "])\n",
        "\n",
        "hypothesis_values = hypothesis(theta, X)\n",
        "hypothesis_values\n"
      ],
      "metadata": {
        "id": "dKDHv-YtL3TA",
        "colab": {
          "base_uri": "https://localhost:8080/"
        },
        "outputId": "aff5f26a-f7cc-48f9-ef0b-d5c19107a9f2"
      },
      "execution_count": 2,
      "outputs": [
        {
          "output_type": "execute_result",
          "data": {
            "text/plain": [
              "array([0.37754067, 0.73105858, 0.62245933, 0.5       ])"
            ]
          },
          "metadata": {},
          "execution_count": 2
        }
      ]
    },
    {
      "cell_type": "markdown",
      "source": [
        "#### Завдання 3: Реалізація функції для підрахунку градієнтів фукнції втрат\n",
        "1. Напишіть функцію `compute_gradient(theta, X, y)`, яка обчислює градієнти функції втрат для логістичної регресії. Формула для обчислення градієнта:\n",
        "   $$\n",
        "   \\frac{\\partial L(\\theta)}{\\partial \\theta_j} = \\frac{1}{m} \\sum_{i=1}^{m} \\left[ (h_\\theta(x^{(i)}) - y^{(i)}) x_j^{(i)} \\right]\n",
        "   $$\n",
        "2. Використайте функцію `compute_gradient` для обчислення градієнтів для наступних даних:\n",
        "\n",
        "  $\\theta = [0.5, -0.5]$\n",
        "\n",
        "  $X = \\begin{bmatrix} 1 & 2 \\\\ 1 & -1 \\\\ 1 & 0 \\\\ 1 & 1 \\end{bmatrix}$\n",
        "\n",
        "  $y = [1, 0, 1, 0]$\n",
        "\n",
        "  Виведіть результат обчислень."
      ],
      "metadata": {
        "id": "MWASH4Z4ClTo"
      }
    },
    {
      "cell_type": "code",
      "source": [
        "def compute_gradient(theta, X, y):\n",
        "\n",
        "    m = len(y)  # кількість прикладів\n",
        "    h = 1 / (1 + np.exp(-np.dot(X, theta)))  # розрахунок гіпотези\n",
        "    gradient = (1 / m) * np.dot(X.T, (h - y))  # обчислення градієнта\n",
        "    return gradient\n",
        "\n",
        "theta = np.array([0.5, -0.5])\n",
        "X = np.array([\n",
        "    [1, 2],\n",
        "    [1, -1],\n",
        "    [1, 0],\n",
        "    [1, 1]\n",
        "])\n",
        "y = np.array([1, 0, 1, 0])\n",
        "\n",
        "gradient_values = compute_gradient(theta, X, y)\n",
        "gradient_values\n"
      ],
      "metadata": {
        "id": "0DM4xqZCL32i",
        "colab": {
          "base_uri": "https://localhost:8080/"
        },
        "outputId": "5226c1d8-2ab9-4957-ced7-34bc65b868d1"
      },
      "execution_count": 3,
      "outputs": [
        {
          "output_type": "execute_result",
          "data": {
            "text/plain": [
              "array([ 0.05776464, -0.36899431])"
            ]
          },
          "metadata": {},
          "execution_count": 3
        }
      ]
    },
    {
      "cell_type": "markdown",
      "source": [
        "\n",
        "#### Завдання 4: Реалізація повного батч градієнтного спуску\n",
        "\n",
        "**Задача:**\n",
        "1. Напишіть функцію `full_batch_gradient_descent(X, y, lr=0.1, epochs=100)`, яка реалізує алгоритм Full градієнтного спуску для логістичної регресії. Використовуйте такі формули:\n",
        "   - Гіпотеза: $ h_\\theta(x) = \\sigma(\\theta^T x) $\n",
        "   - Оновлення параметрів: $ \\theta_j := \\theta_j - \\alpha \\frac{\\partial L(\\theta)}{\\partial \\theta_j} $\n",
        "2. Використайте функцію `full_batch_gradient_descent` для обчислення параметрів моделі на наступних даних:\n",
        "\n",
        "  $X = \\begin{bmatrix} 1 & 2 \\\\ 1 & -1 \\\\ 1 & 0 \\\\ 1 & 1 \\end{bmatrix}$\n",
        "\n",
        "  $y = [1, 0, 1, 0]$\n",
        "\n",
        "  Увага! Матриця $X$ вже має стовпець одиниць і передбачається, що це. - стовпець для intercept - параметра зсуву.\n",
        "\n",
        "  Виведіть результат обчислень.\n"
      ],
      "metadata": {
        "id": "nOtJEtdnC1K9"
      }
    },
    {
      "cell_type": "code",
      "source": [
        "def full_batch_gradient_descent(X, y, lr=0.1, epochs=100):\n",
        "\n",
        "    # Ініціалізація параметрів (вектора коефіцієнтів) нулями\n",
        "    theta = np.zeros(X.shape[1])\n",
        "\n",
        "    # Градієнтний спуск\n",
        "    for _ in range(epochs):\n",
        "        # Обчислення гіпотези (сигмоїдної функції)\n",
        "        h = 1 / (1 + np.exp(-np.dot(X, theta)))\n",
        "\n",
        "        # Обчислення градієнта\n",
        "        gradient = (1 / len(y)) * np.dot(X.T, (h - y))\n",
        "\n",
        "        # Оновлення параметрів\n",
        "        theta = theta - (lr * gradient)\n",
        "\n",
        "    return theta\n",
        "\n",
        "optimal_theta = full_batch_gradient_descent(X, y)\n",
        "optimal_theta\n"
      ],
      "metadata": {
        "id": "fHtUOTxXL4Yy",
        "colab": {
          "base_uri": "https://localhost:8080/"
        },
        "outputId": "3cab7eba-2383-499c-bce4-31f3494e0638"
      },
      "execution_count": 10,
      "outputs": [
        {
          "output_type": "execute_result",
          "data": {
            "text/plain": [
              "array([-0.2893693 ,  0.77655125])"
            ]
          },
          "metadata": {},
          "execution_count": 10
        }
      ]
    },
    {
      "cell_type": "markdown",
      "source": [
        "#### Завдання 5. Обчислення точності моделі\n",
        "\n",
        "1. Напишіть функцію `predict_proba(theta, X)`, яка використовує знайдені параметри $\\theta$ для обчислення ймовірностей належності поточного прикладу з даних до класу $y=1$ на основі значень $\\sigma(\\theta^T x)$.\n",
        "\n",
        "2. Напишіть функцію `predict(theta, X, threshold=0.5)`, яка обчислює клас з передбаченої імовірності належності екземпляра до класу 1 з порогом 0.5. Тобто якщо ймовірність менше 0.5, то передбачаємо клас 0, інакше клас 1.\n",
        "\n",
        "3. Напишіть функцію `accuracy(y_true, y_pred)`, яка обчислює точність моделі, визначивши частку правильно передбачених класів.\n",
        "\n",
        "  Формула метрики Accuracy:\n",
        "  $$\n",
        "  \\text{Accuracy} = \\frac{\\sum_{i=1}^{m} I(\\hat{{y}^{(i)}} = y^{(i)})}{m}\n",
        "  $$\n",
        "\n",
        "  де $\\hat{{y}^{(i)}}$ - передбачене значення класу, $I$ - індикаторна функція (яка дорівнює 1, якщо умова виконується, і 0 - якщо ні), $m$ - кількість прикладів.\n",
        "\n",
        "4. Обчисліть з використанням даних в завданні 4 $X$, $y$ та обчислених коефіцієнтах $\\theta$ та виведіть на екран:\n",
        "  - передбачені моделлю імовірності належності кожного з екземплярів в матриці `X` до класу 1\n",
        "  - класи кожного екземпляра з матриці `X`\n",
        "  - точність моделі."
      ],
      "metadata": {
        "id": "E4iZV55cE5f3"
      }
    },
    {
      "cell_type": "code",
      "source": [
        "def predict_proba(theta, X):\n",
        "\n",
        "    # Обчислення гіпотези логістичної регресії (σ(θ^T * X))\n",
        "    z = np.dot(X, theta)\n",
        "    probabilities = 1 / (1 + np.exp(-z))\n",
        "\n",
        "    return probabilities"
      ],
      "metadata": {
        "id": "85ZZfPtjrsai"
      },
      "execution_count": 5,
      "outputs": []
    },
    {
      "cell_type": "code",
      "source": [
        "def predict(theta, X, threshold=0.5):\n",
        "\n",
        "    # Обчислення ймовірностей приналежності до класу y=1\n",
        "    probabilities = 1 / (1 + np.exp(-np.dot(X, theta)))\n",
        "\n",
        "    # Перетворення ймовірностей на передбачення класу (0 або 1)\n",
        "    predictions = (probabilities >= threshold).astype(int)\n",
        "\n",
        "    return predictions"
      ],
      "metadata": {
        "id": "xIqiydmKnmN0"
      },
      "execution_count": 6,
      "outputs": []
    },
    {
      "cell_type": "code",
      "source": [
        "def accuracy(y_true, y_pred):\n",
        "\n",
        "    # Перевірка збігів між фактичними та передбаченими значеннями\n",
        "    correct_predictions = np.sum(y_true == y_pred)\n",
        "\n",
        "    # Обчислення точності як частки правильних передбачень\n",
        "    accuracy_score = correct_predictions / len(y_true)\n",
        "\n",
        "    return accuracy_score"
      ],
      "metadata": {
        "id": "Ldup_MsCnmDq"
      },
      "execution_count": 7,
      "outputs": []
    },
    {
      "cell_type": "code",
      "source": [
        "# Обчислення ймовірностей\n",
        "probabilities = predict_proba(optimal_theta, X)\n",
        "\n",
        "# Обчислення класів\n",
        "predicted_classes = predict(optimal_theta, X)\n",
        "\n",
        "# Обчислення точності\n",
        "model_accuracy = accuracy(y, predicted_classes)\n",
        "\n",
        "# Виведення результатів\n",
        "probabilities, predicted_classes, model_accuracy"
      ],
      "metadata": {
        "colab": {
          "base_uri": "https://localhost:8080/"
        },
        "id": "FrJc1-BWnl2Z",
        "outputId": "fd95a2b4-3e14-4959-d7a4-8fbc935598a5"
      },
      "execution_count": 9,
      "outputs": [
        {
          "output_type": "execute_result",
          "data": {
            "text/plain": [
              "(array([0.77966809, 0.25617965, 0.42815828, 0.61944235]),\n",
              " array([1, 0, 0, 1]),\n",
              " 0.5)"
            ]
          },
          "metadata": {},
          "execution_count": 9
        }
      ]
    }
  ]
}