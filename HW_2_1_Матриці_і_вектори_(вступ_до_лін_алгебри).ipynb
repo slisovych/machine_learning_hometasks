{
  "nbformat": 4,
  "nbformat_minor": 0,
  "metadata": {
    "colab": {
      "provenance": [],
      "include_colab_link": true
    },
    "kernelspec": {
      "name": "python3",
      "display_name": "Python 3"
    },
    "language_info": {
      "name": "python"
    }
  },
  "cells": [
    {
      "cell_type": "markdown",
      "metadata": {
        "id": "view-in-github",
        "colab_type": "text"
      },
      "source": [
        "<a href=\"https://colab.research.google.com/github/slisovych/machine_learning_hometasks/blob/main/HW_2_1_%D0%9C%D0%B0%D1%82%D1%80%D0%B8%D1%86%D1%96_%D1%96_%D0%B2%D0%B5%D0%BA%D1%82%D0%BE%D1%80%D0%B8_(%D0%B2%D1%81%D1%82%D1%83%D0%BF_%D0%B4%D0%BE_%D0%BB%D1%96%D0%BD_%D0%B0%D0%BB%D0%B3%D0%B5%D0%B1%D1%80%D0%B8).ipynb\" target=\"_parent\"><img src=\"https://colab.research.google.com/assets/colab-badge.svg\" alt=\"Open In Colab\"/></a>"
      ]
    },
    {
      "cell_type": "markdown",
      "source": [
        "### Завдання 1: Створення матриць та векторів\n",
        "1. Створіть `numpy` вектор `vector` розмірністю 10 з випадковими дійсними значеннями в діапазоні від 0 до 1. Можна скористатись двома альтернативними варіантами:\n",
        "  1. Генерація випадкових чисел з модулем [`random.uniform`](https://docs.python.org/3/library/random.html).\n",
        "  2. Створення вектора з допомогою метода `numpy` [np.random.rand](https://numpy.org/doc/stable/reference/random/generated/numpy.random.rand.html)\n",
        "\n",
        "2. Створіть матрицю `matrix` типу `numpy.array` розмірності 3x3 з наступними значеннями\n",
        "\n",
        "  $$\n",
        "  matrix = \\begin{bmatrix}\n",
        "  11 & 14 & 17 \\\\\n",
        "  20 & 23 & 26 \\\\\n",
        "  29 & 32 & 35\n",
        "  \\end{bmatrix}\n",
        "  $$\n",
        "\n",
        "  будь-яким відомими Вам способом.\n",
        "\n",
        "Виведіть на екран вектор і матрицю, а також їх розміри.\n"
      ],
      "metadata": {
        "id": "efug1V4CM0lT"
      }
    },
    {
      "cell_type": "code",
      "source": [
        "import numpy as np\n",
        "\n",
        "vector = np.random.rand(10)\n",
        "vector"
      ],
      "metadata": {
        "id": "jxA_lG2_VIMe",
        "colab": {
          "base_uri": "https://localhost:8080/"
        },
        "outputId": "f536ed9b-82ad-4002-913e-dbd74de31137"
      },
      "execution_count": 28,
      "outputs": [
        {
          "output_type": "execute_result",
          "data": {
            "text/plain": [
              "array([0.88298688, 0.95895096, 0.99125991, 0.80729763, 0.47111365,\n",
              "       0.23068212, 0.21253446, 0.98642267, 0.94907058, 0.27676307])"
            ]
          },
          "metadata": {},
          "execution_count": 28
        }
      ]
    },
    {
      "cell_type": "code",
      "source": [
        "matrix = np.array([[11, 14, 17], [20, 23, 26], [29, 32, 35]])\n",
        "matrix"
      ],
      "metadata": {
        "colab": {
          "base_uri": "https://localhost:8080/"
        },
        "id": "YtquP4p7-s0c",
        "outputId": "09c02255-aa50-4764-8b46-63f247859663"
      },
      "execution_count": 6,
      "outputs": [
        {
          "output_type": "execute_result",
          "data": {
            "text/plain": [
              "array([[11, 14, 17],\n",
              "       [20, 23, 26],\n",
              "       [29, 32, 35]])"
            ]
          },
          "metadata": {},
          "execution_count": 6
        }
      ]
    },
    {
      "cell_type": "code",
      "source": [
        "vector.shape, matrix.shape"
      ],
      "metadata": {
        "colab": {
          "base_uri": "https://localhost:8080/"
        },
        "id": "xTtczpfT-zpD",
        "outputId": "b6caa2b6-22b9-4ecf-9da1-5618c152c641"
      },
      "execution_count": 29,
      "outputs": [
        {
          "output_type": "execute_result",
          "data": {
            "text/plain": [
              "((10,), (3, 3))"
            ]
          },
          "metadata": {},
          "execution_count": 29
        }
      ]
    },
    {
      "cell_type": "markdown",
      "source": [
        "\n",
        "### Завдання 2: Операції над векторами та матрицями\n",
        "Виконайте кожну з зазначених операцій над зазначеними оʼєктами і виведіть результат на екран:\n",
        "1. Додайте до кожного значення вектора `vector` число 10 і округліть кожне значення до 2 знаків після коми без використання циклів.\n",
        "2. Помножте кожен елемент матриці з першого завдання на 2 без використання циклів.\n",
        "3. Створіть новий вектор, який містить квадрат кожного `vector` без циклів.\n"
      ],
      "metadata": {
        "id": "TSJ1P4OuOVe2"
      }
    },
    {
      "cell_type": "code",
      "source": [
        "vector_round = np.round(vector + 10, 2)\n",
        "vector_round"
      ],
      "metadata": {
        "colab": {
          "base_uri": "https://localhost:8080/"
        },
        "id": "MARvGo3K_fxD",
        "outputId": "afe4ac33-0d63-4a4f-b2fb-28c576fc9371"
      },
      "execution_count": 31,
      "outputs": [
        {
          "output_type": "execute_result",
          "data": {
            "text/plain": [
              "array([10.88, 10.96, 10.99, 10.81, 10.47, 10.23, 10.21, 10.99, 10.95,\n",
              "       10.28])"
            ]
          },
          "metadata": {},
          "execution_count": 31
        }
      ]
    },
    {
      "cell_type": "code",
      "source": [
        "matrix_mult = matrix * 2\n",
        "matrix_mult"
      ],
      "metadata": {
        "id": "nAAojtyUVJXN",
        "colab": {
          "base_uri": "https://localhost:8080/"
        },
        "outputId": "114bf496-e740-4ec4-fbae-3985636c93c3"
      },
      "execution_count": 8,
      "outputs": [
        {
          "output_type": "execute_result",
          "data": {
            "text/plain": [
              "array([[22, 28, 34],\n",
              "       [40, 46, 52],\n",
              "       [58, 64, 70]])"
            ]
          },
          "metadata": {},
          "execution_count": 8
        }
      ]
    },
    {
      "cell_type": "code",
      "source": [
        "vector_square = vector ** 2\n",
        "vector_square"
      ],
      "metadata": {
        "colab": {
          "base_uri": "https://localhost:8080/"
        },
        "id": "fShtUOaFBMS9",
        "outputId": "f4c81fe4-96e4-4e48-fe1a-f390bd23cd39"
      },
      "execution_count": 32,
      "outputs": [
        {
          "output_type": "execute_result",
          "data": {
            "text/plain": [
              "array([0.77966583, 0.91958694, 0.9825962 , 0.65172946, 0.22194807,\n",
              "       0.05321424, 0.0451709 , 0.97302968, 0.90073496, 0.0765978 ])"
            ]
          },
          "metadata": {},
          "execution_count": 32
        }
      ]
    },
    {
      "cell_type": "markdown",
      "source": [
        "\n",
        "### Завдання 3: Множення матриць\n",
        "1. Задані дві матриці `A` і `B`розмірностями 3x2 та 2х3. Виконайте їхнє множення, щоб отримати матрицю 2x2. Виведіть результуючу матрицю `result_matrix` на екран.\n",
        "\n",
        "2. Заданий вектор `C` розмірністю 2х1. Подумайте спочатку, яку розмірність Ви отрмаєте, коли домножите `result_matrix` на вектор `C` і який результат буде. А потім виконайте множення і виведіть результат на екран.\n",
        "\n",
        "3. Задана матриця `D` розмірністю 2х2. Подумайте спочатку, яку розмірність Ви отрмаєте, коли домножите `result_matrix` на матрицю `D` і який результат буде. А потім виконайте множення і виведіть результат на екран."
      ],
      "metadata": {
        "id": "u6RvWVfhPy-k"
      }
    },
    {
      "cell_type": "code",
      "source": [
        "A = np.array(\n",
        "    [[0.18, 0.53],\n",
        "     [0.75, 0.47],\n",
        "     [0.35, 0.21]])\n",
        "\n",
        "B = np.array(\n",
        "    [[0.17, 0.58, 0.75],\n",
        "     [0.38, 0.11, 0.15]])\n",
        "\n",
        "C = np.array([[0], [1]])\n",
        "\n",
        "D = np.array([[0,1], [1,0]])\n",
        "\n",
        "display(A, B, C, D)"
      ],
      "metadata": {
        "id": "RwXfPzlbSJ44",
        "colab": {
          "base_uri": "https://localhost:8080/",
          "height": 173
        },
        "outputId": "5e911c9f-7a59-4304-d8ac-1dbcf426998d"
      },
      "execution_count": 11,
      "outputs": [
        {
          "output_type": "display_data",
          "data": {
            "text/plain": [
              "array([[0.18, 0.53],\n",
              "       [0.75, 0.47],\n",
              "       [0.35, 0.21]])"
            ]
          },
          "metadata": {}
        },
        {
          "output_type": "display_data",
          "data": {
            "text/plain": [
              "array([[0.17, 0.58, 0.75],\n",
              "       [0.38, 0.11, 0.15]])"
            ]
          },
          "metadata": {}
        },
        {
          "output_type": "display_data",
          "data": {
            "text/plain": [
              "array([[0],\n",
              "       [1]])"
            ]
          },
          "metadata": {}
        },
        {
          "output_type": "display_data",
          "data": {
            "text/plain": [
              "array([[0, 1],\n",
              "       [1, 0]])"
            ]
          },
          "metadata": {}
        }
      ]
    },
    {
      "cell_type": "code",
      "source": [
        "result_matrix = np.dot(B, A)\n",
        "result_matrix"
      ],
      "metadata": {
        "id": "z7-boTbhVKkj",
        "colab": {
          "base_uri": "https://localhost:8080/"
        },
        "outputId": "afdf62b4-df71-4c8a-e3b2-49aa056da41f"
      },
      "execution_count": 16,
      "outputs": [
        {
          "output_type": "execute_result",
          "data": {
            "text/plain": [
              "array([[0.7281, 0.5202],\n",
              "       [0.2034, 0.2846]])"
            ]
          },
          "metadata": {},
          "execution_count": 16
        }
      ]
    },
    {
      "cell_type": "code",
      "source": [
        "result_matrix_c = result_matrix.dot(C)\n",
        "result_matrix_c"
      ],
      "metadata": {
        "colab": {
          "base_uri": "https://localhost:8080/"
        },
        "id": "Z2Jb_hvZDWOT",
        "outputId": "4c738d54-7caa-40b7-d903-a56cf0de7474"
      },
      "execution_count": 20,
      "outputs": [
        {
          "output_type": "execute_result",
          "data": {
            "text/plain": [
              "array([[0.5202],\n",
              "       [0.2846]])"
            ]
          },
          "metadata": {},
          "execution_count": 20
        }
      ]
    },
    {
      "cell_type": "code",
      "source": [
        "result_matrix_d = result_matrix.dot(D)\n",
        "result_matrix_d #Матриця D просто міняє місцями стовпці матриці result_matrix"
      ],
      "metadata": {
        "colab": {
          "base_uri": "https://localhost:8080/"
        },
        "id": "Lo3DDIEnDrD1",
        "outputId": "d6d9c18c-c294-4e51-b5a6-bb11147273f2"
      },
      "execution_count": 26,
      "outputs": [
        {
          "output_type": "execute_result",
          "data": {
            "text/plain": [
              "array([[0.5202, 0.7281],\n",
              "       [0.2846, 0.2034]])"
            ]
          },
          "metadata": {},
          "execution_count": 26
        }
      ]
    },
    {
      "cell_type": "markdown",
      "source": [
        "\n",
        "### Завдання 4: Транспонування матриць\n",
        "1. Транспонуйте `result_matrix`.\n",
        "2. Зробіть транспонування вектора `vector` і виведіть форму нової структури. Чи бачите ви зміну?\n",
        "3. Використайте операцію `numpy.expand_dims` над вектором `vector` з аргументом axis=1. Запишіть отриманий результат в змінну `column_vector` і виведіть на екран. Порівняйте з `vector`.\n",
        "4. Зробіть транспонування `column_vector`, виведіть результат на екран разом з розмірностями отриманої структури.\n",
        "\n",
        "\n"
      ],
      "metadata": {
        "id": "wohp0_cxSGpl"
      }
    },
    {
      "cell_type": "code",
      "source": [
        "result_matrix_t = result_matrix.T\n",
        "result_matrix_t"
      ],
      "metadata": {
        "colab": {
          "base_uri": "https://localhost:8080/"
        },
        "id": "-Kju-Sz0FpZH",
        "outputId": "d161bead-2bca-4d8c-b670-c58befc73125"
      },
      "execution_count": 27,
      "outputs": [
        {
          "output_type": "execute_result",
          "data": {
            "text/plain": [
              "array([[0.7281, 0.2034],\n",
              "       [0.5202, 0.2846]])"
            ]
          },
          "metadata": {},
          "execution_count": 27
        }
      ]
    },
    {
      "cell_type": "code",
      "source": [
        "vector_t = vector.T\n",
        "vector_t\n",
        "#операція транспонування не змінює його форму"
      ],
      "metadata": {
        "colab": {
          "base_uri": "https://localhost:8080/"
        },
        "id": "VlMVDkEoFtiS",
        "outputId": "51363d6f-3332-4373-cdb0-6d970a5312ac"
      },
      "execution_count": 34,
      "outputs": [
        {
          "output_type": "execute_result",
          "data": {
            "text/plain": [
              "array([0.88298688, 0.95895096, 0.99125991, 0.80729763, 0.47111365,\n",
              "       0.23068212, 0.21253446, 0.98642267, 0.94907058, 0.27676307])"
            ]
          },
          "metadata": {},
          "execution_count": 34
        }
      ]
    },
    {
      "cell_type": "code",
      "source": [
        "column_vector = np.expand_dims(vector, axis=1)\n",
        "column_vector\n",
        "# перетворився у вектор-стовпець"
      ],
      "metadata": {
        "colab": {
          "base_uri": "https://localhost:8080/"
        },
        "id": "7bRT7BNfGNPt",
        "outputId": "8a5951b4-261c-4f30-8e59-bc3e3f600dc0"
      },
      "execution_count": 35,
      "outputs": [
        {
          "output_type": "execute_result",
          "data": {
            "text/plain": [
              "array([[0.88298688],\n",
              "       [0.95895096],\n",
              "       [0.99125991],\n",
              "       [0.80729763],\n",
              "       [0.47111365],\n",
              "       [0.23068212],\n",
              "       [0.21253446],\n",
              "       [0.98642267],\n",
              "       [0.94907058],\n",
              "       [0.27676307]])"
            ]
          },
          "metadata": {},
          "execution_count": 35
        }
      ]
    },
    {
      "cell_type": "code",
      "source": [
        "column_vector_t = column_vector.T\n",
        "print (\"Транспонування:\", column_vector_t)\n",
        "\n",
        "print (\"Розмірність:\", column_vector_t.shape)"
      ],
      "metadata": {
        "colab": {
          "base_uri": "https://localhost:8080/"
        },
        "id": "0ZvqqkT2HE8b",
        "outputId": "86c507d2-547f-4697-c495-d6545d1dd730"
      },
      "execution_count": 39,
      "outputs": [
        {
          "output_type": "stream",
          "name": "stdout",
          "text": [
            "Транспонування: [[0.88298688 0.95895096 0.99125991 0.80729763 0.47111365 0.23068212\n",
            "  0.21253446 0.98642267 0.94907058 0.27676307]]\n",
            "Розмірність: (1, 10)\n"
          ]
        }
      ]
    },
    {
      "cell_type": "code",
      "source": [],
      "metadata": {
        "id": "HijIGS1FHYY_"
      },
      "execution_count": null,
      "outputs": []
    }
  ]
}